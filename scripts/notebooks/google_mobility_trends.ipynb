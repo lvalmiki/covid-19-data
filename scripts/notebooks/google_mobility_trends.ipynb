{
 "cells": [
  {
   "cell_type": "code",
   "execution_count": 1,
   "metadata": {
    "ExecuteTime": {
     "end_time": "2021-04-22T18:11:37.661067Z",
     "start_time": "2021-04-22T18:11:35.695343Z"
    }
   },
   "outputs": [],
   "source": [
    "#import packages\n",
    "import pandas as pd\n",
    "from datetime import datetime"
   ]
  },
  {
   "cell_type": "code",
   "execution_count": 2,
   "metadata": {},
   "outputs": [],
   "source": [
    "#Assign Global Mobility Report to url\n",
    "url = \"https://www.gstatic.com/covid19/mobility/Global_Mobility_Report.csv\""
   ]
  },
  {
   "cell_type": "code",
   "execution_count": 3,
   "metadata": {},
   "outputs": [],
   "source": [
    "cols = [\n",
    "        \"country_region\",\n",
    "        \"sub_region_1\",\n",
    "        \"sub_region_2\",\n",
    "        \"metro_area\",\n",
    "        \"iso_3166_2_code\",\n",
    "        \"census_fips_code\",\n",
    "        \"date\",\n",
    "        \"retail_and_recreation_percent_change_from_baseline\",\n",
    "        \"grocery_and_pharmacy_percent_change_from_baseline\",\n",
    "        \"parks_percent_change_from_baseline\",\n",
    "        \"transit_stations_percent_change_from_baseline\",\n",
    "        \"workplaces_percent_change_from_baseline\",\n",
    "        \"residential_percent_change_from_baseline\"\n",
    "]"
   ]
  },
  {
   "cell_type": "code",
   "execution_count": 8,
   "metadata": {},
   "outputs": [],
   "source": [
    "df = pd.read_csv(url, usecols=cols, low_memory=False)"
   ]
  },
  {
   "cell_type": "code",
   "execution_count": 9,
   "metadata": {},
   "outputs": [],
   "source": [
    "#Convert date column to days of the year\n",
    "df['date'] = pd.to_datetime(df['date'], format=\"%Y/%m/%d\", utc=True)\n",
    "df['date'] = df['date'].dt.dayofyear"
   ]
  },
  {
   "cell_type": "code",
   "execution_count": 14,
   "metadata": {},
   "outputs": [
    {
     "data": {
      "text/html": [
       "<div>\n",
       "<style scoped>\n",
       "    .dataframe tbody tr th:only-of-type {\n",
       "        vertical-align: middle;\n",
       "    }\n",
       "\n",
       "    .dataframe tbody tr th {\n",
       "        vertical-align: top;\n",
       "    }\n",
       "\n",
       "    .dataframe thead th {\n",
       "        text-align: right;\n",
       "    }\n",
       "</style>\n",
       "<table border=\"1\" class=\"dataframe\">\n",
       "  <thead>\n",
       "    <tr style=\"text-align: right;\">\n",
       "      <th></th>\n",
       "      <th>Country</th>\n",
       "      <th>Region</th>\n",
       "    </tr>\n",
       "  </thead>\n",
       "  <tbody>\n",
       "    <tr>\n",
       "      <th>0</th>\n",
       "      <td>Austria</td>\n",
       "      <td>European Union</td>\n",
       "    </tr>\n",
       "    <tr>\n",
       "      <th>1</th>\n",
       "      <td>Belgium</td>\n",
       "      <td>European Union</td>\n",
       "    </tr>\n",
       "    <tr>\n",
       "      <th>2</th>\n",
       "      <td>Bulgaria</td>\n",
       "      <td>European Union</td>\n",
       "    </tr>\n",
       "    <tr>\n",
       "      <th>3</th>\n",
       "      <td>Croatia</td>\n",
       "      <td>European Union</td>\n",
       "    </tr>\n",
       "    <tr>\n",
       "      <th>4</th>\n",
       "      <td>Cyprus</td>\n",
       "      <td>European Union</td>\n",
       "    </tr>\n",
       "  </tbody>\n",
       "</table>\n",
       "</div>"
      ],
      "text/plain": [
       "    Country          Region\n",
       "0   Austria  European Union\n",
       "1   Belgium  European Union\n",
       "2  Bulgaria  European Union\n",
       "3   Croatia  European Union\n",
       "4    Cyprus  European Union"
      ]
     },
     "execution_count": 14,
     "metadata": {},
     "output_type": "execute_result"
    }
   ],
   "source": [
    "#Standardise country names to OWID country names\n",
    "# country_mapping = pd.read_csv(\"mobility_to_owid_countries.csv\")\n",
    "country_mapping = pd.read_csv(\"../input/owid/eu_countries.csv\")\n",
    "df = country_mapping.merge(df, on=\"country_region\")\n",
    "country_mapping.head()"
   ]
  },
  {
   "cell_type": "code",
   "execution_count": 120,
   "metadata": {},
   "outputs": [],
   "source": [
    "#Remove subnational data, keeping only country figures\n",
    "filter_cols = [\"sub_region_1\", \"sub_region_2\",\"metro_area\",\"iso_3166_2_code\",\"census_fips_code\"]\n",
    "country_mobility = df[df[filter_cols].isna().all(1)]"
   ]
  },
  {
   "cell_type": "code",
   "execution_count": 121,
   "metadata": {},
   "outputs": [],
   "source": [
    "#Delete columns\n",
    "country_mobility = country_mobility.drop(columns=[\"country_region\", \"sub_region_1\", \"sub_region_2\",\"metro_area\",\"census_fips_code\",\"iso_3166_2_code\"])"
   ]
  },
  {
   "cell_type": "code",
   "execution_count": 122,
   "metadata": {},
   "outputs": [],
   "source": [
    "#Assign new column names\n",
    "rename_dict = {\n",
    "        \"date\": \"Year\",\n",
    "        \"retail_and_recreation_percent_change_from_baseline\": \"Retail & Recreation\",\n",
    "        \"grocery_and_pharmacy_percent_change_from_baseline\": \"Grocery & Pharmacy\",\n",
    "        \"parks_percent_change_from_baseline\": \"Parks\",\n",
    "        \"transit_stations_percent_change_from_baseline\": \"Transit Stations\",\n",
    "        \"workplaces_percent_change_from_baseline\": \"Workplaces\",\n",
    "        \"residential_percent_change_from_baseline\": \"Residential\"\n",
    "    }"
   ]
  },
  {
   "cell_type": "code",
   "execution_count": 123,
   "metadata": {},
   "outputs": [],
   "source": [
    "#Rename columns\n",
    "country_mobility = country_mobility.rename(columns=rename_dict)"
   ]
  },
  {
   "cell_type": "code",
   "execution_count": 124,
   "metadata": {},
   "outputs": [
    {
     "data": {
      "text/html": [
       "<div>\n",
       "<style scoped>\n",
       "    .dataframe tbody tr th:only-of-type {\n",
       "        vertical-align: middle;\n",
       "    }\n",
       "\n",
       "    .dataframe tbody tr th {\n",
       "        vertical-align: top;\n",
       "    }\n",
       "\n",
       "    .dataframe thead th {\n",
       "        text-align: right;\n",
       "    }\n",
       "</style>\n",
       "<table border=\"1\" class=\"dataframe\">\n",
       "  <thead>\n",
       "    <tr style=\"text-align: right;\">\n",
       "      <th></th>\n",
       "      <th>Country</th>\n",
       "      <th>Year</th>\n",
       "      <th>Retail &amp; Recreation</th>\n",
       "      <th>Grocery &amp; Pharmacy</th>\n",
       "      <th>Parks</th>\n",
       "      <th>Transit Stations</th>\n",
       "      <th>Workplaces</th>\n",
       "      <th>Residential</th>\n",
       "    </tr>\n",
       "  </thead>\n",
       "  <tbody>\n",
       "    <tr>\n",
       "      <th>0</th>\n",
       "      <td>United Arab Emirates</td>\n",
       "      <td>46</td>\n",
       "      <td>0.0</td>\n",
       "      <td>4.0</td>\n",
       "      <td>5.0</td>\n",
       "      <td>0.0</td>\n",
       "      <td>2.0</td>\n",
       "      <td>1.0</td>\n",
       "    </tr>\n",
       "    <tr>\n",
       "      <th>1</th>\n",
       "      <td>United Arab Emirates</td>\n",
       "      <td>47</td>\n",
       "      <td>1.0</td>\n",
       "      <td>4.0</td>\n",
       "      <td>4.0</td>\n",
       "      <td>1.0</td>\n",
       "      <td>2.0</td>\n",
       "      <td>1.0</td>\n",
       "    </tr>\n",
       "    <tr>\n",
       "      <th>2</th>\n",
       "      <td>United Arab Emirates</td>\n",
       "      <td>48</td>\n",
       "      <td>-1.0</td>\n",
       "      <td>1.0</td>\n",
       "      <td>5.0</td>\n",
       "      <td>1.0</td>\n",
       "      <td>2.0</td>\n",
       "      <td>1.0</td>\n",
       "    </tr>\n",
       "    <tr>\n",
       "      <th>3</th>\n",
       "      <td>United Arab Emirates</td>\n",
       "      <td>49</td>\n",
       "      <td>-2.0</td>\n",
       "      <td>1.0</td>\n",
       "      <td>5.0</td>\n",
       "      <td>0.0</td>\n",
       "      <td>2.0</td>\n",
       "      <td>1.0</td>\n",
       "    </tr>\n",
       "    <tr>\n",
       "      <th>4</th>\n",
       "      <td>United Arab Emirates</td>\n",
       "      <td>50</td>\n",
       "      <td>-2.0</td>\n",
       "      <td>0.0</td>\n",
       "      <td>4.0</td>\n",
       "      <td>-1.0</td>\n",
       "      <td>2.0</td>\n",
       "      <td>1.0</td>\n",
       "    </tr>\n",
       "    <tr>\n",
       "      <th>...</th>\n",
       "      <td>...</td>\n",
       "      <td>...</td>\n",
       "      <td>...</td>\n",
       "      <td>...</td>\n",
       "      <td>...</td>\n",
       "      <td>...</td>\n",
       "      <td>...</td>\n",
       "      <td>...</td>\n",
       "    </tr>\n",
       "    <tr>\n",
       "      <th>1321317</th>\n",
       "      <td>Zimbabwe</td>\n",
       "      <td>203</td>\n",
       "      <td>-11.0</td>\n",
       "      <td>-4.0</td>\n",
       "      <td>-3.0</td>\n",
       "      <td>-30.0</td>\n",
       "      <td>-14.0</td>\n",
       "      <td>23.0</td>\n",
       "    </tr>\n",
       "    <tr>\n",
       "      <th>1321318</th>\n",
       "      <td>Zimbabwe</td>\n",
       "      <td>204</td>\n",
       "      <td>-22.0</td>\n",
       "      <td>-14.0</td>\n",
       "      <td>-13.0</td>\n",
       "      <td>-40.0</td>\n",
       "      <td>-19.0</td>\n",
       "      <td>28.0</td>\n",
       "    </tr>\n",
       "    <tr>\n",
       "      <th>1321319</th>\n",
       "      <td>Zimbabwe</td>\n",
       "      <td>205</td>\n",
       "      <td>-22.0</td>\n",
       "      <td>-12.0</td>\n",
       "      <td>-12.0</td>\n",
       "      <td>-36.0</td>\n",
       "      <td>-19.0</td>\n",
       "      <td>28.0</td>\n",
       "    </tr>\n",
       "    <tr>\n",
       "      <th>1321320</th>\n",
       "      <td>Zimbabwe</td>\n",
       "      <td>206</td>\n",
       "      <td>-30.0</td>\n",
       "      <td>-18.0</td>\n",
       "      <td>-23.0</td>\n",
       "      <td>-47.0</td>\n",
       "      <td>-19.0</td>\n",
       "      <td>30.0</td>\n",
       "    </tr>\n",
       "    <tr>\n",
       "      <th>1321321</th>\n",
       "      <td>Zimbabwe</td>\n",
       "      <td>207</td>\n",
       "      <td>-21.0</td>\n",
       "      <td>-4.0</td>\n",
       "      <td>-6.0</td>\n",
       "      <td>-37.0</td>\n",
       "      <td>-2.0</td>\n",
       "      <td>22.0</td>\n",
       "    </tr>\n",
       "  </tbody>\n",
       "</table>\n",
       "<p>21249 rows × 8 columns</p>\n",
       "</div>"
      ],
      "text/plain": [
       "                      Country  Year  Retail & Recreation  Grocery & Pharmacy  \\\n",
       "0        United Arab Emirates    46                  0.0                 4.0   \n",
       "1        United Arab Emirates    47                  1.0                 4.0   \n",
       "2        United Arab Emirates    48                 -1.0                 1.0   \n",
       "3        United Arab Emirates    49                 -2.0                 1.0   \n",
       "4        United Arab Emirates    50                 -2.0                 0.0   \n",
       "...                       ...   ...                  ...                 ...   \n",
       "1321317              Zimbabwe   203                -11.0                -4.0   \n",
       "1321318              Zimbabwe   204                -22.0               -14.0   \n",
       "1321319              Zimbabwe   205                -22.0               -12.0   \n",
       "1321320              Zimbabwe   206                -30.0               -18.0   \n",
       "1321321              Zimbabwe   207                -21.0                -4.0   \n",
       "\n",
       "         Parks  Transit Stations  Workplaces  Residential  \n",
       "0          5.0               0.0         2.0          1.0  \n",
       "1          4.0               1.0         2.0          1.0  \n",
       "2          5.0               1.0         2.0          1.0  \n",
       "3          5.0               0.0         2.0          1.0  \n",
       "4          4.0              -1.0         2.0          1.0  \n",
       "...        ...               ...         ...          ...  \n",
       "1321317   -3.0             -30.0       -14.0         23.0  \n",
       "1321318  -13.0             -40.0       -19.0         28.0  \n",
       "1321319  -12.0             -36.0       -19.0         28.0  \n",
       "1321320  -23.0             -47.0       -19.0         30.0  \n",
       "1321321   -6.0             -37.0        -2.0         22.0  \n",
       "\n",
       "[21249 rows x 8 columns]"
      ]
     },
     "execution_count": 124,
     "metadata": {},
     "output_type": "execute_result"
    }
   ],
   "source": [
    "country_mobility"
   ]
  },
  {
   "cell_type": "code",
   "execution_count": 125,
   "metadata": {},
   "outputs": [],
   "source": [
    "#Save to files\n",
    "country_mobility.to_csv('Google Mobility Trends (2020).csv', index=False)"
   ]
  }
 ],
 "metadata": {
  "hide_input": false,
  "kernelspec": {
   "display_name": "Python 3",
   "language": "python",
   "name": "python3"
  },
  "language_info": {
   "codemirror_mode": {
    "name": "ipython",
    "version": 3
   },
   "file_extension": ".py",
   "mimetype": "text/x-python",
   "name": "python",
   "nbconvert_exporter": "python",
   "pygments_lexer": "ipython3",
   "version": "3.7.6"
  },
  "latex_envs": {
   "LaTeX_envs_menu_present": true,
   "autoclose": false,
   "autocomplete": true,
   "bibliofile": "biblio.bib",
   "cite_by": "apalike",
   "current_citInitial": 1,
   "eqLabelWithNumbers": true,
   "eqNumInitial": 1,
   "hotkeys": {
    "equation": "Ctrl-E",
    "itemize": "Ctrl-I"
   },
   "labels_anchors": false,
   "latex_user_defs": false,
   "report_style_numbering": false,
   "user_envs_cfg": false
  },
  "nbTranslate": {
   "displayLangs": [
    "*"
   ],
   "hotkey": "alt-t",
   "langInMainMenu": true,
   "sourceLang": "en",
   "targetLang": "fr",
   "useGoogleTranslate": true
  },
  "toc": {
   "base_numbering": 1,
   "nav_menu": {},
   "number_sections": true,
   "sideBar": true,
   "skip_h1_title": false,
   "title_cell": "Table of Contents",
   "title_sidebar": "Contents",
   "toc_cell": false,
   "toc_position": {},
   "toc_section_display": true,
   "toc_window_display": false
  },
  "varInspector": {
   "cols": {
    "lenName": 16,
    "lenType": 16,
    "lenVar": 40
   },
   "kernels_config": {
    "python": {
     "delete_cmd_postfix": "",
     "delete_cmd_prefix": "del ",
     "library": "var_list.py",
     "varRefreshCmd": "print(var_dic_list())"
    },
    "r": {
     "delete_cmd_postfix": ") ",
     "delete_cmd_prefix": "rm(",
     "library": "var_list.r",
     "varRefreshCmd": "cat(var_dic_list()) "
    }
   },
   "types_to_exclude": [
    "module",
    "function",
    "builtin_function_or_method",
    "instance",
    "_Feature"
   ],
   "window_display": false
  }
 },
 "nbformat": 4,
 "nbformat_minor": 4
}
